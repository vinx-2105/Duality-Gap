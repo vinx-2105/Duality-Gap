{
 "cells": [
  {
   "cell_type": "code",
   "execution_count": 1,
   "metadata": {},
   "outputs": [
    {
     "output_type": "stream",
     "name": "stderr",
     "text": "WARNING:root:This caffe2 python run does not have GPU support. Will run in CPU only mode.\n"
    }
   ],
   "source": [
    "from datasets.Dataset_RING import Dataset_RING\n",
    "import matplotlib.pyplot as plt\n",
    "import seaborn as sns\n",
    "import random\n",
    "import torch\n",
    "import torch.nn as nn\n",
    "import torch.nn.parallel\n",
    "import torch.backends.cudnn as cudnn\n",
    "import torch.optim as optim\n",
    "import torch.utils.data\n",
    "from models.Generator_B1 import Generator_B1  \n",
    "from models.Discriminator_B1 import Discriminator_B1\n",
    "from torch.utils.tensorboard import SummaryWriter\n",
    "from PIL import Image\n",
    "from utils.performance_measures import *\n",
    "from IPython.display import clear_output"
   ]
  },
  {
   "cell_type": "code",
   "execution_count": 2,
   "metadata": {},
   "outputs": [],
   "source": [
    "manualSeed = 99\n",
    "random.seed(manualSeed)\n",
    "torch.manual_seed(manualSeed)\n",
    "\n",
    "writer = SummaryWriter(\"logs3\")"
   ]
  },
  {
   "cell_type": "code",
   "execution_count": 3,
   "metadata": {},
   "outputs": [],
   "source": [
    "device = torch.device(\"cuda:0\" if (torch.cuda.is_available() and ngpu > 0) else \"cpu\")\n",
    "batch_size = 100\n",
    "num_workers = 2\n",
    "d_z=100\n",
    "d_h=128\n",
    "ngpu=0\n",
    "beta1=0.5\n",
    "num_epochs=45\n",
    "test_sample_size=10000"
   ]
  },
  {
   "cell_type": "code",
   "execution_count": 4,
   "metadata": {},
   "outputs": [],
   "source": [
    "dataset = Dataset_RING()\n",
    "dataloader = torch.utils.data.DataLoader(dataset, batch_size=batch_size, shuffle=True, num_workers=num_workers)\n",
    "\n",
    "_data = dataset[:, :]\n",
    "X = _data[:,0]\n",
    "Y = _data[:,1]\n",
    "\n",
    "plot_scatter = sns.scatterplot(x=X, y=Y)\n",
    "fig_scatter = plot_scatter.get_figure()\n",
    "writer.add_figure('Scatter_Plot-Dataset', fig_scatter)\n",
    "\n",
    "def weights_init(m):\n",
    "    classname = m.__class__.__name__\n",
    "    if classname.find('Conv') != -1:\n",
    "        nn.init.normal_(m.weight.data, 0.0, 0.02)\n",
    "    elif classname.find('BatchNorm') != -1:\n",
    "        nn.init.normal_(m.weight.data, 1.0, 0.02)\n",
    "        nn.init.constant_(m.bias.data, 0)\n",
    "\n"
   ]
  },
  {
   "cell_type": "code",
   "execution_count": 5,
   "metadata": {},
   "outputs": [
    {
     "output_type": "stream",
     "name": "stdout",
     "text": "Generator_B1(\n  (main): Sequential(\n    (0): Linear(in_features=100, out_features=128, bias=True)\n    (1): ReLU()\n    (2): Linear(in_features=128, out_features=128, bias=True)\n    (3): ReLU()\n    (4): Linear(in_features=128, out_features=2, bias=True)\n  )\n)\nDiscriminator_B1(\n  (main): Sequential(\n    (0): Linear(in_features=2, out_features=128, bias=True)\n    (1): ReLU()\n    (2): Linear(in_features=128, out_features=128, bias=True)\n    (3): ReLU()\n    (4): Linear(in_features=128, out_features=1, bias=True)\n    (5): Sigmoid()\n  )\n)\n"
    }
   ],
   "source": [
    "gen = Generator_B1(d_z=d_z, d_h=d_h)\n",
    "\n",
    "if (device.type == 'cuda') and (ngpu > 1):\n",
    "    gen = nn.DataParallel(gen, list(range(ngpu)))\n",
    "\n",
    "gen.apply(weights_init)\n",
    "\n",
    "print(gen)\n",
    "\n",
    "disc = Discriminator_B1(d_h=d_h)\n",
    "\n",
    "if (device.type == 'cuda') and (ngpu > 1):\n",
    "    disc = nn.DataParallel(disc, list(range(ngpu)))\n",
    "\n",
    "disc.apply(weights_init)\n",
    "\n",
    "print(disc)"
   ]
  },
  {
   "cell_type": "code",
   "execution_count": 6,
   "metadata": {},
   "outputs": [],
   "source": [
    "\"\"\"\n",
    "Loss functions and optimisers\n",
    "\"\"\"\n",
    "\n",
    "# Initialize BCELoss function\n",
    "criterion = nn.BCELoss()\n",
    "\n",
    "# Create batch of latent vectors that we will use to visualize\n",
    "#  the progression of the generator\n",
    "fixed_noise = torch.randn(test_sample_size, d_z,  device=device)\n",
    "\n",
    "# Establish convention for real and fake labels during training\n",
    "real_label = 1\n",
    "fake_label = 0\n",
    "\n",
    "lrg = 1e-3\n",
    "lrd = 2e-3\n",
    "\n",
    "# Setup Adam optimizers for both G and D\n",
    "optimizerD = optim.Adam(disc.parameters(), lr=lrd, betas=(beta1, 0.999))\n",
    "optimizerG = optim.Adam(gen.parameters(), lr=lrg, betas=(beta1, 0.999))"
   ]
  },
  {
   "cell_type": "code",
   "execution_count": 7,
   "metadata": {},
   "outputs": [],
   "source": [
    "adversary_finding_dataset = Dataset_RING(num_samples=50000)\n",
    "adversary_finding_dataloader = torch.utils.data.DataLoader(dataset, batch_size=batch_size, shuffle=True, num_workers=num_workers)\n",
    "\n",
    "test_dataset = Dataset_RING(num_samples=10000)\n",
    "test_dataloader = torch.utils.data.DataLoader(dataset, batch_size=10000, shuffle=True, num_workers=num_workers)"
   ]
  },
  {
   "cell_type": "code",
   "execution_count": 8,
   "metadata": {},
   "outputs": [
    {
     "output_type": "error",
     "ename": "IndexError",
     "evalue": "tuple index out of range",
     "traceback": [
      "\u001b[0;31m---------------------------------------------------------------------------\u001b[0m",
      "\u001b[0;31mIndexError\u001b[0m                                Traceback (most recent call last)",
      "\u001b[0;32m<ipython-input-8-a2dde937e497>\u001b[0m in \u001b[0;36m<module>\u001b[0;34m\u001b[0m\n\u001b[1;32m     67\u001b[0m             \u001b[0mclear_output\u001b[0m\u001b[0;34m(\u001b[0m\u001b[0mwait\u001b[0m\u001b[0;34m=\u001b[0m\u001b[0;32mTrue\u001b[0m\u001b[0;34m)\u001b[0m\u001b[0;34m\u001b[0m\u001b[0;34m\u001b[0m\u001b[0m\n\u001b[1;32m     68\u001b[0m \u001b[0;34m\u001b[0m\u001b[0m\n\u001b[0;32m---> 69\u001b[0;31m             \u001b[0mprint\u001b[0m\u001b[0;34m(\u001b[0m\u001b[0;34m'Epoch-->{}; Iters-->{}; D_Loss-->{}; G_Loss-->{}; DG-->{};'\u001b[0m\u001b[0;34m.\u001b[0m\u001b[0mformat\u001b[0m\u001b[0;34m(\u001b[0m\u001b[0mepoch\u001b[0m\u001b[0;34m,\u001b[0m \u001b[0miters\u001b[0m\u001b[0;34m,\u001b[0m \u001b[0merrD\u001b[0m\u001b[0;34m.\u001b[0m\u001b[0mdata\u001b[0m\u001b[0;34m.\u001b[0m\u001b[0mitem\u001b[0m\u001b[0;34m(\u001b[0m\u001b[0;34m)\u001b[0m\u001b[0;34m,\u001b[0m \u001b[0merrG\u001b[0m\u001b[0;34m.\u001b[0m\u001b[0mdata\u001b[0m\u001b[0;34m.\u001b[0m\u001b[0mitem\u001b[0m\u001b[0;34m(\u001b[0m\u001b[0;34m)\u001b[0m\u001b[0;34m)\u001b[0m\u001b[0;34m,\u001b[0m \u001b[0mDG\u001b[0m\u001b[0;34m)\u001b[0m\u001b[0;34m\u001b[0m\u001b[0;34m\u001b[0m\u001b[0m\n\u001b[0m\u001b[1;32m     70\u001b[0m \u001b[0;34m\u001b[0m\u001b[0m\n\u001b[1;32m     71\u001b[0m             \u001b[0;32mwith\u001b[0m \u001b[0mtorch\u001b[0m\u001b[0;34m.\u001b[0m\u001b[0mno_grad\u001b[0m\u001b[0;34m(\u001b[0m\u001b[0;34m)\u001b[0m\u001b[0;34m:\u001b[0m\u001b[0;34m\u001b[0m\u001b[0;34m\u001b[0m\u001b[0m\n",
      "\u001b[0;31mIndexError\u001b[0m: tuple index out of range"
     ]
    }
   ],
   "source": [
    "\"\"\"\n",
    "The training \n",
    "\"\"\"\n",
    "\n",
    "iters = 0\n",
    "\n",
    "for epoch in range(num_epochs):\n",
    "    #for each batch in the dataloader\n",
    "    for i, data in enumerate(dataloader, 0):\n",
    "        #######\n",
    "        # (1) Update D network: maximise log(D(x)) + log(1-D(G(z)))\n",
    "        #######\n",
    "        \n",
    "        ##train with real batch\n",
    "        disc.zero_grad()\n",
    "        real_batch = data.float().to(device)\n",
    "\n",
    "        b_size = real_batch.size(0)\n",
    "        label = torch.full((b_size,), real_label, device=device)\n",
    "        # Forward pass real batch through D\n",
    "        output = disc(real_batch).view(-1)\n",
    "        # Calculate loss on all-real batch\n",
    "\n",
    "        errD_real = criterion(output, label)\n",
    "        # Calculate gradients for D in backward pass\n",
    "        errD_real.backward()\n",
    "        D_x = output.mean().item()\n",
    "        \n",
    "        ## Train with all-fake batch\n",
    "        # Generate batch of latent vectors\n",
    "        noise = torch.randn(b_size, d_z,  device=device)\n",
    "        # Generate fake image batch with G\n",
    "        fake = gen(noise)\n",
    "        label.fill_(fake_label)\n",
    "        # Classify all fake batch with D\n",
    "        output = disc(fake.detach()).view(-1)\n",
    "        # Calculate D's loss on the all-fake batch\n",
    "        errD_fake = criterion(output, label)\n",
    "        # Calculate the gradients for this batch\n",
    "        errD_fake.backward()\n",
    "        D_G_z1 = output.mean().item()\n",
    "        # Add the gradients from the all-real and all-fake batches\n",
    "        errD = errD_real + errD_fake\n",
    "        # Update D\n",
    "        optimizerD.step()\n",
    "\n",
    "        ############################\n",
    "        # (2) Update G network: maximize log(D(G(z)))\n",
    "        ###########################\n",
    "        gen.zero_grad()\n",
    "        label.fill_(real_label)  # fake labels are real for generator cost\n",
    "        # Since we just updated D, perform another forward pass of all-fake batch through D\n",
    "        output = disc(fake).view(-1)\n",
    "        # Calculate G's loss based on this output\n",
    "        errG = criterion(output, label)\n",
    "        # Calculate gradients for G\n",
    "        errG.backward()\n",
    "        D_G_z2 = output.mean().item()\n",
    "        # Update G\n",
    "        optimizerG.step()\n",
    "\n",
    "\n",
    "        if (iters%500==0) or ((epoch == num_epochs-1) and (i==len(dataloader)-1)):\n",
    "            #get the duality gap\n",
    "            DG = get_duality_gap(Generator_B1, Discriminator_B1, gen, disc, iters, adversary_finding_dataloader, test_dataloader, criterion, device, 1e-3, 1e-3, writer, num_epochs=5)\n",
    "\n",
    "            clear_output(wait=True)\n",
    "\n",
    "            print('Epoch-->{}; Iters-->{}; D_Loss-->{}; G_Loss-->{}; DG-->{};'.format(epoch, iters, errD.item(), errG.item(), DG))\n",
    "            \n",
    "            with torch.no_grad():\n",
    "                fake = gen(fixed_noise).detach().cpu()\n",
    "                X = fake[:,0].numpy()\n",
    "                Y = fake[:,1].numpy()\n",
    "\n",
    "                plot_kde = sns.kdeplot(data=X, data2=Y, cmap='Reds', shade=True, shade_lowest=False)\n",
    "                fig_kde = plot_kde.get_figure()\n",
    "                writer.add_figure('KDE_Plot-Output_on_Fixed_Noise', fig_kde, global_step=iters)\n",
    "\n",
    "                plot_scatter = sns.scatterplot(x=X, y=Y)\n",
    "                fig_scatter = plot_scatter.get_figure()\n",
    "                writer.add_figure('Scatter_Plot-Output_on_Fixed_Noise', fig_scatter, global_step=iters)\n",
    "\n",
    "        \n",
    "        #write the losses to tensorboard\n",
    "        writer.add_scalar('Discriminator-Error', errD.data.item(), global_step=iters)\n",
    "        writer.add_scalar('Generator-Error', errG.data.item(),  global_step=iters)\n",
    "\n",
    "        \n",
    "        iters+=1\n"
   ]
  },
  {
   "cell_type": "code",
   "execution_count": null,
   "metadata": {},
   "outputs": [],
   "source": [
    "writer.close()\n"
   ]
  }
 ],
 "metadata": {
  "language_info": {
   "codemirror_mode": {
    "name": "ipython",
    "version": 3
   },
   "file_extension": ".py",
   "mimetype": "text/x-python",
   "name": "python",
   "nbconvert_exporter": "python",
   "pygments_lexer": "ipython3",
   "version": "3.7.7-final"
  },
  "orig_nbformat": 2,
  "kernelspec": {
   "name": "python37364bitpytorchenvconda428b5753b19c4ca98ef442d8ca09c252",
   "display_name": "Python 3.7.3 64-bit ('pytorch_env': conda)"
  }
 },
 "nbformat": 4,
 "nbformat_minor": 2
}